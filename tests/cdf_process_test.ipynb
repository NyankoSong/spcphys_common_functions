{
 "cells": [
  {
   "cell_type": "code",
   "execution_count": 1,
   "metadata": {},
   "outputs": [
    {
     "name": "stderr",
     "output_type": "stream",
     "text": [
      "Downloading: 100%|██████████| 4/4 [00:03<00:00,  1.27it/s]"
     ]
    },
    {
     "name": "stdout",
     "output_type": "stream",
     "text": [
      "ac_h3s_swi_20020101000000_20020101135959_cdaweb.cdf saved to /mnt/hc320/conda_share/spcphys_common_functions/tests/cdf_files\n",
      "ac_h3s_swi_20020101160000_20020102000000_cdaweb.cdf saved to /mnt/hc320/conda_share/spcphys_common_functions/tests/cdf_files\n",
      "ac_h2s_swi_20020101150000_20020102000000_cdaweb.cdf saved to /mnt/hc320/conda_share/spcphys_common_functions/tests/cdf_files\n",
      "ac_h2s_swi_20020101000000_20020101135959_cdaweb.cdf saved to /mnt/hc320/conda_share/spcphys_common_functions/tests/cdf_files\n"
     ]
    },
    {
     "name": "stderr",
     "output_type": "stream",
     "text": [
      "\n"
     ]
    }
   ],
   "source": [
    "import spcphys_common_functions as scf\n",
    "from datetime import datetime, timedelta\n",
    "\n",
    "scf.net_tools.fetch_cdf_from_cdaweb(cdf_info={'AC_H2_SWI': ['nHe2'], 'AC_H3_SWI': ['HetoO']}, time_range=(datetime(2002, 1, 1), datetime(2002, 1, 2)), time_chunk=timedelta(days=0.6))"
   ]
  }
 ],
 "metadata": {
  "kernelspec": {
   "display_name": "spcphys",
   "language": "python",
   "name": "python3"
  },
  "language_info": {
   "codemirror_mode": {
    "name": "ipython",
    "version": 3
   },
   "file_extension": ".py",
   "mimetype": "text/x-python",
   "name": "python",
   "nbconvert_exporter": "python",
   "pygments_lexer": "ipython3",
   "version": "3.11.8"
  }
 },
 "nbformat": 4,
 "nbformat_minor": 2
}
